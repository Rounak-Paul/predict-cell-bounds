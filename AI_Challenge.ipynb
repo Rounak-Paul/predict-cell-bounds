{
  "nbformat": 4,
  "nbformat_minor": 0,
  "metadata": {
    "colab": {
      "provenance": []
    },
    "kernelspec": {
      "name": "python3",
      "display_name": "Python 3"
    }
  },
  "cells": [
    {
      "cell_type": "markdown",
      "metadata": {
        "id": "PKKD6hK26jPV"
      },
      "source": [
        "<center>\n",
        "<img src=\"https://i.imgur.com/DW7NRwf.png\" title=\"ElementalsAI\" width=80%/>\n",
        "</center>"
      ]
    },
    {
      "cell_type": "markdown",
      "metadata": {
        "id": "CjwC8T6KuCCt"
      },
      "source": [
        "# Introduction\n",
        "\n",
        "Deep Learning has been very successful in solving many complex problems in the real world. However, solving most of these challenges requires data. Additionally, having data is not just enough. The data has to be cleansed, annotated, and organized. Moreover, data in many domains is not accessible due to privacy constraints (Especially in the medical domain). Hence it becomes pertinent to create models that can learn from a limited amount of data.\n",
        "\n",
        "<br>\n",
        "\n",
        "## Problem Statement:\n",
        "In this task, you are given a small dataset of the microscopic view of the cells.\n",
        "\n",
        "*Your goal is to build a model that accurately predicts the cell regions as shown in the **Label Image**.*\n",
        "\n",
        "#### **Input Image**\n",
        "\n",
        "<a href=\"https://imgur.com/aLDNHwu\"><img src=\"https://i.imgur.com/aLDNHwu.png\" title=\"source: imgur.com\" /></a>\n",
        "\n",
        "#### **Label Image**\n",
        "\n",
        "<a href=\"https://imgur.com/s1mIkFE\"><img src=\"https://i.imgur.com/s1mIkFE.png\" title=\"source: imgur.com\" /></a>\n",
        "\n",
        "\n",
        "## Dataset:\n",
        "\n",
        "The dataset contains 30 training images along with the labels.\n",
        "\n",
        "[**Dataset Link**](https://drive.google.com/drive/folders/1678Tggykj46SpJZS9mKMKHw7YFmiGMc8?usp=sharing)\n",
        "\n",
        "\n",
        "## Evaluation\n",
        "\n",
        "Share the submission Jupyter/Colab notebook with the relevant explanation. code and models. We will evaluate your model on our **test dataset**.\n",
        "\n",
        "<br><br>\n",
        "****Note that this is an interview assignment & is not involved in the development of any software or solution.**"
      ]
    },
    {
      "cell_type": "markdown",
      "metadata": {
        "id": "Qc6vK_ej5338"
      },
      "source": [
        "### Instructions\n",
        "\n",
        "1. Make a copy of this notebook to start editing & add your solution.\n",
        "2. A dataset folder has been shared with you to train and test.\n",
        "2. You can use any framework to develop the solution (Pytorch, Keras, Tensorflow, Theano, Caffe etc.).\n",
        "3. This assignment is a great medium to get to know you better. Please feel free to connect, interact & develop the solution. I would be more than willing to help you out in any issues or problems that you face while solving the challenge. You can connect with me at suraj.donthi@elementals.ai.\n",
        "4. The goal of this task is to understand how you approach solving a problem. The more you connect while developing the solution the better I will be able to understand you.\n",
        "5. Submission Files:\n",
        "    - Colab Notebook Link with Solutions Approach and Code Solution.\n",
        "    - Trained Model Link.\n",
        "    - Any other necessary files.\n",
        "5. **Submission deadline: Within 5 days of recieving the assignment, no later than 12 AM IST on the due date. The exact due date shall be mentioned in the email or the portal where you recieve the assignment.** (You can share the Colab Notebook to the gmail address surajdonthi.th@gmail.com)"
      ]
    },
    {
      "cell_type": "markdown",
      "metadata": {
        "id": "gNmRTPRZ181E"
      },
      "source": [
        "## Explain the technique you will use to solve the problem in detail.\n",
        "\n",
        "- Include any model architectures, equations, diagrams etc. that is required to explain how you are going to solve the problem."
      ]
    },
    {
      "cell_type": "markdown",
      "metadata": {
        "id": "qPnOr-Nm5Wlv"
      },
      "source": [
        "```\n",
        "\n",
        "\n",
        "\n",
        "\n",
        "\n",
        "```\n",
        "================== `Your answer here. (Double click to edit)` =================="
      ]
    },
    {
      "cell_type": "markdown",
      "metadata": {
        "id": "CfYy0MSR5Z7s"
      },
      "source": [
        "## Implement the solution below."
      ]
    },
    {
      "cell_type": "code",
      "metadata": {
        "id": "PhQdAfFw9Fp6"
      },
      "source": [
        "# Your code here."
      ],
      "execution_count": null,
      "outputs": []
    },
    {
      "cell_type": "code",
      "source": [],
      "metadata": {
        "id": "g97xDrtyd6PQ"
      },
      "execution_count": null,
      "outputs": []
    }
  ]
}